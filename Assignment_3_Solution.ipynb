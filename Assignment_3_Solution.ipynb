{
 "cells": [
  {
   "cell_type": "markdown",
   "metadata": {},
   "source": [
    "# 1.1 Write a Python Program to implement your own myreduce() function which works exactly like Python's built-in function reduce()\n"
   ]
  },
  {
   "cell_type": "code",
   "execution_count": 14,
   "metadata": {},
   "outputs": [],
   "source": [
    "def myreduce():\n",
    "    \"Gives addition of all the element present in a list\"\n",
    "    a = 0\n",
    "    lt = []\n",
    "    n = int(input(\"Enter the number of element you want in your list : \"))\n",
    "\n",
    "    for i in range(0,n):\n",
    "        item = int(input(\"enter the number : \"))\n",
    "        lt.append(item)\n",
    "    \n",
    "    for i in lt:\n",
    "        a += i\n",
    "    print(a)"
   ]
  },
  {
   "cell_type": "code",
   "execution_count": 15,
   "metadata": {},
   "outputs": [
    {
     "name": "stdout",
     "output_type": "stream",
     "text": [
      "Enter the number of element you want in your list : 2\n",
      "enter the number : 75\n",
      "enter the number : 25\n",
      "100\n"
     ]
    }
   ],
   "source": [
    "myreduce()"
   ]
  },
  {
   "cell_type": "code",
   "execution_count": 3,
   "metadata": {},
   "outputs": [],
   "source": [
    "def smallest():\n",
    "    \"A reduce function which gives the smallest element from a list.\"\n",
    "    a = 0\n",
    "    lt = []\n",
    "    n = int(input(\"Enter the number of element you want in your list : \"))\n",
    "\n",
    "    for i in range(0,n):\n",
    "        item = int(input(\"enter the number : \"))\n",
    "        lt.append(item)\n",
    "    lt.sort(reverse = True)\n",
    "    \n",
    "    for i in lt:\n",
    "        a += i\n",
    "    for j in lt[0:-1]:\n",
    "        a -=j\n",
    "    print(a)"
   ]
  },
  {
   "cell_type": "code",
   "execution_count": 4,
   "metadata": {},
   "outputs": [
    {
     "name": "stdout",
     "output_type": "stream",
     "text": [
      "Enter the number of element you want in your list : 5\n",
      "enter the number : 25\n",
      "enter the number : 52\n",
      "enter the number : 42\n",
      "enter the number : 34\n",
      "enter the number : 15\n",
      "15\n"
     ]
    }
   ],
   "source": [
    "smallest()"
   ]
  },
  {
   "cell_type": "markdown",
   "metadata": {},
   "source": [
    "# 1.2 Write a Python program to implement your own myfilter() function which works exactly like Python's built-in function filter()"
   ]
  },
  {
   "cell_type": "code",
   "execution_count": 5,
   "metadata": {},
   "outputs": [],
   "source": [
    "def fil_ter():\n",
    "    fl_lt = []\n",
    "    lt = []\n",
    "    div = int(input(\"Divide with : \"))\n",
    "    n = int(input(\"Enter the number of element you want in your list : \"))\n",
    "\n",
    "    for i in range(0,n):\n",
    "        item = int(input(\"enter the number : \"))\n",
    "        lt.append(item)\n",
    "    \n",
    "    for j in lt:\n",
    "        if j%div==0:\n",
    "            fl_lt.append(j)\n",
    "    return (f\" Number divisible by {div} are {fl_lt}.\")"
   ]
  },
  {
   "cell_type": "code",
   "execution_count": 6,
   "metadata": {},
   "outputs": [
    {
     "name": "stdout",
     "output_type": "stream",
     "text": [
      "Divide with : 5\n",
      "Enter the number of element you want in your list : 25\n",
      "enter the number : 36\n",
      "enter the number : 45\n",
      "enter the number : 85\n",
      "enter the number : 75\n",
      "enter the number : 38\n",
      "enter the number : 75\n",
      "enter the number : 95\n",
      "enter the number : 55\n",
      "enter the number : 5\n",
      "enter the number : 18\n",
      "enter the number : 37\n",
      "enter the number : 91\n",
      "enter the number : 46\n",
      "enter the number : 82\n",
      "enter the number : 50\n",
      "enter the number : 20\n",
      "enter the number : 10\n",
      "enter the number : 64\n",
      "enter the number : 73\n",
      "enter the number : 91\n",
      "enter the number : 100\n",
      "enter the number : 88\n",
      "enter the number : 99\n",
      "enter the number : 77\n",
      "enter the number : 66\n"
     ]
    },
    {
     "data": {
      "text/plain": [
       "' Number divisible by 5 are [45, 85, 75, 75, 95, 55, 5, 50, 20, 10, 100].'"
      ]
     },
     "execution_count": 6,
     "metadata": {},
     "output_type": "execute_result"
    }
   ],
   "source": [
    "fil_ter()"
   ]
  },
  {
   "cell_type": "markdown",
   "metadata": {},
   "source": [
    "# 2. Implement List comprehensions to produce the following lists. Write List comprehensions to produce the following Lists\n",
    "        \n",
    "        ['x', 'xx', 'xxx', 'xxxx', 'y', 'yy', 'yyy', 'yyyy', 'z', 'zz', 'zzz', 'zzzz'] \n",
    "        ['x', 'y', 'z', 'xx', 'yy', 'zz', 'xxx', 'yyy', 'zzz', 'xxxx', 'yyyy', 'zzzz'] \n",
    "        [[2], [3], [4], [3], [4], [5], [4], [5], [6]] [[2, 3, 4, 5], [3, 4, 5, 6], \n",
    "        [4, 5, 6, 7], [5, 6, 7, 8]]\n",
    "        [(1, 1), (2, 1), (3, 1), (1, 2), (2, 2), (3, 2), (1, 3), (2, 3), (3, 3)"
   ]
  },
  {
   "cell_type": "code",
   "execution_count": 7,
   "metadata": {},
   "outputs": [],
   "source": [
    "l_c = [i * j for i in range(1,5) for j in ['x','y','z']]"
   ]
  },
  {
   "cell_type": "code",
   "execution_count": 8,
   "metadata": {},
   "outputs": [
    {
     "data": {
      "text/plain": [
       "['x', 'y', 'z', 'xx', 'yy', 'zz', 'xxx', 'yyy', 'zzz', 'xxxx', 'yyyy', 'zzzz']"
      ]
     },
     "execution_count": 8,
     "metadata": {},
     "output_type": "execute_result"
    }
   ],
   "source": [
    "l_c"
   ]
  },
  {
   "cell_type": "code",
   "execution_count": 9,
   "metadata": {},
   "outputs": [],
   "source": [
    "l_c1 = [j * i for j in ['x','y','z']for i in range(1,5)]"
   ]
  },
  {
   "cell_type": "code",
   "execution_count": 10,
   "metadata": {},
   "outputs": [
    {
     "data": {
      "text/plain": [
       "['x', 'xx', 'xxx', 'xxxx', 'y', 'yy', 'yyy', 'yyyy', 'z', 'zz', 'zzz', 'zzzz']"
      ]
     },
     "execution_count": 10,
     "metadata": {},
     "output_type": "execute_result"
    }
   ],
   "source": [
    "l_c1"
   ]
  },
  {
   "cell_type": "code",
   "execution_count": 11,
   "metadata": {},
   "outputs": [
    {
     "name": "stdout",
     "output_type": "stream",
     "text": [
      "[[2], [3], [4], [3], [4], [5], [4], [5], [6]]\n"
     ]
    }
   ],
   "source": [
    "l_c2 = [[n+m] for n in range(2,5) for m in range(0,3)]\n",
    "print(l_c2)"
   ]
  },
  {
   "cell_type": "code",
   "execution_count": 12,
   "metadata": {},
   "outputs": [
    {
     "name": "stdout",
     "output_type": "stream",
     "text": [
      "[[2, 3, 4, 5], [3, 4, 5, 6], [4, 5, 6, 7], [5, 6, 7, 8]]\n"
     ]
    }
   ],
   "source": [
    "l_c3 = [[n+m for n in range(2,6)] for m in range(0,4)]\n",
    "print(l_c3)"
   ]
  },
  {
   "cell_type": "code",
   "execution_count": 13,
   "metadata": {},
   "outputs": [
    {
     "name": "stdout",
     "output_type": "stream",
     "text": [
      "[(1, 1), (2, 1), (3, 1), (1, 2), (2, 2), (3, 2), (1, 3), (2, 3), (3, 3)]\n"
     ]
    }
   ],
   "source": [
    "l_c4 = [(j,i) for i in range(1,4) for j in range(1,4)]\n",
    "print(l_c4)"
   ]
  },
  {
   "cell_type": "code",
   "execution_count": null,
   "metadata": {},
   "outputs": [],
   "source": []
  }
 ],
 "metadata": {
  "kernelspec": {
   "display_name": "Python 3",
   "language": "python",
   "name": "python3"
  },
  "language_info": {
   "codemirror_mode": {
    "name": "ipython",
    "version": 3
   },
   "file_extension": ".py",
   "mimetype": "text/x-python",
   "name": "python",
   "nbconvert_exporter": "python",
   "pygments_lexer": "ipython3",
   "version": "3.8.5"
  }
 },
 "nbformat": 4,
 "nbformat_minor": 4
}
